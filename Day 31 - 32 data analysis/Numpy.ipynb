{
 "cells": [
  {
   "cell_type": "markdown",
   "metadata": {
    "id": "bEjDtQEtLI-F"
   },
   "source": [
    "# NumPy(Numerical Python) is a fundamental library for numerical computing in Python. It provides support for arrays, matrices, and many mathematical functions to operate on these data structures. Here's a basic guide to get started with NumPy:"
   ]
  },
  {
   "cell_type": "markdown",
   "metadata": {
    "id": "RX9l-B8y4Y7z"
   },
   "source": [
    "**creating an array and printing**"
   ]
  },
  {
   "cell_type": "code",
   "execution_count": 4,
   "metadata": {
    "colab": {
     "base_uri": "https://localhost:8080/"
    },
    "executionInfo": {
     "elapsed": 414,
     "status": "ok",
     "timestamp": 1732005966081,
     "user": {
      "displayName": "Bhargav Tumati",
      "userId": "02031433261979710530"
     },
     "user_tz": -330
    },
    "id": "QUTsZBdLkK-t",
    "outputId": "6f276da8-38ff-45c8-ca74-5c6ae426e2f2"
   },
   "outputs": [
    {
     "name": "stdout",
     "output_type": "stream",
     "text": [
      "[1 2 3 4]\n"
     ]
    }
   ],
   "source": [
    "import numpy as np\n",
    "arr = np.array([1,2,3,4])\n",
    "print(arr)"
   ]
  },
  {
   "cell_type": "markdown",
   "metadata": {
    "id": "19WFupOD4w-a"
   },
   "source": [
    "**create zeroes array of 2*3**"
   ]
  },
  {
   "cell_type": "code",
   "execution_count": 6,
   "metadata": {
    "colab": {
     "base_uri": "https://localhost:8080/"
    },
    "executionInfo": {
     "elapsed": 428,
     "status": "ok",
     "timestamp": 1732006171578,
     "user": {
      "displayName": "Bhargav Tumati",
      "userId": "02031433261979710530"
     },
     "user_tz": -330
    },
    "id": "tq7T90HJmx_H",
    "outputId": "15a830b5-1517-455e-aa25-7dd7c99ebd58"
   },
   "outputs": [
    {
     "name": "stdout",
     "output_type": "stream",
     "text": [
      "[[0. 0. 0.]\n",
      " [0. 0. 0.]]\n"
     ]
    }
   ],
   "source": [
    "zeros = np.zeros((2,3))\n",
    "print(zeros)"
   ]
  },
  {
   "cell_type": "markdown",
   "metadata": {
    "id": "Qhb6aOBy42YS"
   },
   "source": [
    "**creating ones array of 3*3 matrix**"
   ]
  },
  {
   "cell_type": "code",
   "execution_count": 8,
   "metadata": {
    "colab": {
     "base_uri": "https://localhost:8080/"
    },
    "executionInfo": {
     "elapsed": 409,
     "status": "ok",
     "timestamp": 1732006277805,
     "user": {
      "displayName": "Bhargav Tumati",
      "userId": "02031433261979710530"
     },
     "user_tz": -330
    },
    "id": "5N1WeI8dnWdP",
    "outputId": "84114f79-c20d-41ae-d033-82dff8aafe90"
   },
   "outputs": [
    {
     "name": "stdout",
     "output_type": "stream",
     "text": [
      "[[1. 1. 1.]\n",
      " [1. 1. 1.]\n",
      " [1. 1. 1.]]\n"
     ]
    }
   ],
   "source": [
    "ones = np.ones((3,3))\n",
    "print(ones)"
   ]
  },
  {
   "cell_type": "markdown",
   "metadata": {
    "id": "k9O6wdfiCnta"
   },
   "source": [
    "**creating an indentity matrix**"
   ]
  },
  {
   "cell_type": "code",
   "execution_count": 10,
   "metadata": {
    "colab": {
     "base_uri": "https://localhost:8080/"
    },
    "executionInfo": {
     "elapsed": 422,
     "status": "ok",
     "timestamp": 1732006337907,
     "user": {
      "displayName": "Bhargav Tumati",
      "userId": "02031433261979710530"
     },
     "user_tz": -330
    },
    "id": "xQ8aKTgxnpkO",
    "outputId": "29b5cadf-655d-4c44-adea-9947c7f1282b"
   },
   "outputs": [
    {
     "name": "stdout",
     "output_type": "stream",
     "text": [
      "[[1. 0.]\n",
      " [0. 1.]]\n"
     ]
    }
   ],
   "source": [
    "eye= np.eye(2)\n",
    "print(eye)"
   ]
  },
  {
   "cell_type": "markdown",
   "metadata": {
    "id": "JrXO5tr-4_Vq"
   },
   "source": [
    "**creating a random matrix**"
   ]
  },
  {
   "cell_type": "code",
   "execution_count": 12,
   "metadata": {
    "colab": {
     "base_uri": "https://localhost:8080/"
    },
    "executionInfo": {
     "elapsed": 459,
     "status": "ok",
     "timestamp": 1732006424211,
     "user": {
      "displayName": "Bhargav Tumati",
      "userId": "02031433261979710530"
     },
     "user_tz": -330
    },
    "id": "eUoM_5ZhnvW_",
    "outputId": "d23d3de6-6360-46f5-bd3a-8348d91ea389"
   },
   "outputs": [
    {
     "name": "stdout",
     "output_type": "stream",
     "text": [
      "[[0.26237733 0.0687091  0.38627562]\n",
      " [0.85945532 0.20787087 0.40621004]\n",
      " [0.2309756  0.26116406 0.38490848]]\n"
     ]
    }
   ],
   "source": [
    "rand=np.random.rand(3,3)\n",
    "print(rand)"
   ]
  },
  {
   "cell_type": "markdown",
   "metadata": {
    "id": "n-ZmNQuchOrF"
   },
   "source": [
    " ***Numpy Analysis of Injury Data***\n",
    "-  First import the required\n",
    "  -  using numpy only"
   ]
  },
  {
   "cell_type": "code",
   "execution_count": 6,
   "metadata": {
    "id": "FH6p1n1MjqlW"
   },
   "outputs": [
    {
     "name": "stdout",
     "output_type": "stream",
     "text": [
      "[['Player_Age', 'Player_Weight', 'Player_Height', 'Previous_Injuries', 'Training_Intensity', 'Recovery_Time', 'Likelihood_of_Injury'], ['24', '66.25193286255299', '175.73242883117646', '1', '0.4579289944340279', '5', '0'], ['37', '70.99627126832448', '174.58165012331358', '0', '0.2265216260361057', '6', '1'], ['32', '80.09378116336106', '186.32961751509828', '0', '0.6139703063252326', '2', '1'], ['28', '87.47327055231725', '175.50423961774717', '1', '0.2528581182501112', '4', '1']]\n"
     ]
    }
   ],
   "source": [
    "import numpy as np\n",
    "import csv\n",
    "\n",
    "file_path = r'C:\\Users\\SESPL\\bhargav-workspace\\Day 31 - 32 data analysis\\archive\\injury_data.csv'\n",
    "\n",
    "with open(file_path, 'r') as a:\n",
    "    reader = csv.reader(a)\n",
    "    data = list(reader)\n",
    "    #print(data)\n",
    "    print(data[:5])"
   ]
  },
  {
   "cell_type": "markdown",
   "metadata": {
    "id": "yEsHIhuj4BW5"
   },
   "source": [
    "#**to get max, min and average (mean) values for each column**"
   ]
  },
  {
   "cell_type": "code",
   "execution_count": 8,
   "metadata": {
    "colab": {
     "base_uri": "https://localhost:8080/"
    },
    "executionInfo": {
     "elapsed": 440,
     "status": "ok",
     "timestamp": 1732010287564,
     "user": {
      "displayName": "Bhargav Tumati",
      "userId": "02031433261979710530"
     },
     "user_tz": -330
    },
    "id": "KJT3QL97pSIv",
    "outputId": "d305902d-87e9-44f3-ec79-17781f5e80c7"
   },
   "outputs": [
    {
     "name": "stdout",
     "output_type": "stream",
     "text": [
      "<class 'numpy.ndarray'>\n",
      "Minimum Value of Player_Age is 18.0\n",
      "Maximum Value of Player_Age is 39.0\n",
      "Mean Value of Player_Age is 28.231\n",
      "Column: Player_Age, Max: 39.0\n",
      "Column: Player_Weight, Max: 104.65010351720721\n",
      "Column: Player_Height, Max: 207.3086723322357\n",
      "Column: Previous_Injuries, Max: 1.0\n",
      "Column: Training_Intensity, Max: 0.9977493890102006\n",
      "Column: Recovery_Time, Max: 6.0\n",
      "Column: Likelihood_of_Injury, Max: 1.0\n"
     ]
    }
   ],
   "source": [
    "# Load the CSV file using np.genfromtxt (or np.loadtxt)\n",
    "data = np.genfromtxt(file_path, delimiter=\",\", skip_header=1)  # Skip the first row (headers)\n",
    "\n",
    "# Extract column names from the first row of the CSV\n",
    "column_names = np.genfromtxt(file_path, delimiter=\",\", max_rows=1, dtype=str)\n",
    "\n",
    "# Check if the data is a NumPy array\n",
    "print(type(data))  # Should print <class 'numpy.ndarray'>\n",
    "\n",
    "# Extract the 5th column (index 4), assuming it's numeric data\n",
    "player_age = data[:, 0].astype(float)\n",
    "\n",
    "\n",
    "# Find the minimum, maximum, and mean values of the \"Player_Age\" column\n",
    "min_value = np.min(player_age)\n",
    "print(f\"Minimum Value of Player_Age is {min_value}\")\n",
    "max_value = np.max(player_age)\n",
    "print(f\"Maximum Value of Player_Age is {max_value}\")\n",
    "mean_value = np.mean(player_age) #average\n",
    "print(f\"Mean Value of Player_Age is {mean_value}\")\n",
    "\n",
    "\n",
    "\n",
    "\n",
    "# Iterate over each column and print the column name and its mean value\n",
    "num_cols = data.shape[1]\n",
    "\n",
    "for i in range(num_cols):\n",
    "    col = data[:, i].astype(float)  # Get column i and convert to float\n",
    "    max_val = np.max(col)  # Calculate the mean of the column\n",
    "    print(f\"Column: {column_names[i]}, Max: {max_val}\")\n"
   ]
  },
  {
   "cell_type": "markdown",
   "metadata": {
    "id": "Le1OdnQh33T7"
   },
   "source": [
    "**to retrieve data of top 10 most aged people**"
   ]
  },
  {
   "cell_type": "code",
   "execution_count": 36,
   "metadata": {
    "colab": {
     "base_uri": "https://localhost:8080/"
    },
    "executionInfo": {
     "elapsed": 477,
     "status": "ok",
     "timestamp": 1732012036685,
     "user": {
      "displayName": "Bhargav Tumati",
      "userId": "02031433261979710530"
     },
     "user_tz": -330
    },
    "id": "K251SM-p263y",
    "outputId": "dbe1c650-0067-40e4-8151-7888dba4c9c0"
   },
   "outputs": [
    {
     "name": "stdout",
     "output_type": "stream",
     "text": [
      "Top 10 Most Aged People:\n",
      "[[3.90000000e+01 7.12660073e+01 1.83815386e+02 1.00000000e+00\n",
      "  1.02842592e-01 6.00000000e+00 0.00000000e+00]\n",
      " [3.90000000e+01 7.95992903e+01 1.91939563e+02 1.00000000e+00\n",
      "  8.12473821e-01 4.00000000e+00 0.00000000e+00]\n",
      " [3.90000000e+01 8.23212361e+01 1.82918618e+02 1.00000000e+00\n",
      "  4.02027217e-01 6.00000000e+00 0.00000000e+00]\n",
      " [3.90000000e+01 6.79214732e+01 1.87247239e+02 1.00000000e+00\n",
      "  3.31616849e-01 4.00000000e+00 1.00000000e+00]\n",
      " [3.90000000e+01 5.90086351e+01 1.73572427e+02 0.00000000e+00\n",
      "  2.69161571e-01 5.00000000e+00 0.00000000e+00]\n",
      " [3.90000000e+01 8.81400947e+01 1.74271279e+02 0.00000000e+00\n",
      "  3.54831856e-01 5.00000000e+00 0.00000000e+00]\n",
      " [3.90000000e+01 6.56264432e+01 1.68786194e+02 0.00000000e+00\n",
      "  6.03528807e-01 3.00000000e+00 1.00000000e+00]\n",
      " [3.90000000e+01 6.81911272e+01 1.89577277e+02 0.00000000e+00\n",
      "  1.61457834e-01 5.00000000e+00 0.00000000e+00]\n",
      " [3.90000000e+01 6.05014343e+01 1.69921861e+02 1.00000000e+00\n",
      "  5.95366370e-01 4.00000000e+00 1.00000000e+00]\n",
      " [3.90000000e+01 7.70568637e+01 1.78679130e+02 0.00000000e+00\n",
      "  3.45579586e-01 5.00000000e+00 1.00000000e+00]]\n"
     ]
    }
   ],
   "source": [
    "# Extract the \"Player_Age\" column (assuming it's the first column)\n",
    "player_age = data[:, 0]  # Replace 0 with the correct index if the column is not the first one\n",
    "\n",
    "# Sort the data based on the \"Player_Age\" column in descending order\n",
    "sorted_indices = np.argsort(player_age)[::-1]  # Indices for sorting in descending order\n",
    "\n",
    "# Get the top 10 most aged people\n",
    "top_10_aged = data[sorted_indices[:10]]\n",
    "\n",
    "# Print the data for the top 10 most aged people\n",
    "print(\"Top 10 Most Aged People:\")\n",
    "print(top_10_aged)\n"
   ]
  },
  {
   "cell_type": "markdown",
   "metadata": {
    "id": "uC-oWuQS5beq"
   },
   "source": [
    "**print shape size and dtype of data**"
   ]
  },
  {
   "cell_type": "code",
   "execution_count": 10,
   "metadata": {
    "colab": {
     "base_uri": "https://localhost:8080/"
    },
    "executionInfo": {
     "elapsed": 427,
     "status": "ok",
     "timestamp": 1732010514618,
     "user": {
      "displayName": "Bhargav Tumati",
      "userId": "02031433261979710530"
     },
     "user_tz": -330
    },
    "id": "vn8LxAq13b1i",
    "outputId": "160adde9-35ff-4639-852a-52745c55e7ae"
   },
   "outputs": [
    {
     "name": "stdout",
     "output_type": "stream",
     "text": [
      "(1000, 7)\n",
      "7000\n",
      "float64\n"
     ]
    }
   ],
   "source": [
    "print(data.shape)\n",
    "print(data.size)\n",
    "print(data.dtype)"
   ]
  },
  {
   "cell_type": "markdown",
   "metadata": {
    "id": "u7NRyBNi5-VC"
   },
   "source": [
    "**print logic**"
   ]
  },
  {
   "cell_type": "code",
   "execution_count": 40,
   "metadata": {
    "colab": {
     "base_uri": "https://localhost:8080/"
    },
    "executionInfo": {
     "elapsed": 437,
     "status": "ok",
     "timestamp": 1732011149785,
     "user": {
      "displayName": "Bhargav Tumati",
      "userId": "02031433261979710530"
     },
     "user_tz": -330
    },
    "id": "UquoRQQ16BIR",
    "outputId": "92ce3953-5121-4aaf-9860-09c5f8ad1c42"
   },
   "outputs": [
    {
     "name": "stdout",
     "output_type": "stream",
     "text": [
      "[ True  True  True False False  True False]\n"
     ]
    }
   ],
   "source": [
    "print(data[1]>5)"
   ]
  },
  {
   "cell_type": "markdown",
   "metadata": {
    "id": "Nn4rGV4TBRJy"
   },
   "source": [
    "**getting player_height and finding max of first five player_height**"
   ]
  },
  {
   "cell_type": "code",
   "execution_count": 26,
   "metadata": {},
   "outputs": [
    {
     "name": "stdout",
     "output_type": "stream",
     "text": [
      "[175.73242883 174.58165012 186.32961752 175.50423962 190.17501229]\n",
      "maximum height of players for first 5 people: 190.1750122908418 cms\n"
     ]
    }
   ],
   "source": [
    "player_height = data[:, 2].astype(float)\n",
    "\n",
    "print(player_height[:5])\n",
    "print(\"maximum height of players for first 5 people: \"+ str(max(player_height[:5]))+\" cms\")\n"
   ]
  },
  {
   "cell_type": "markdown",
   "metadata": {},
   "source": [
    "**get on best car**"
   ]
  },
  {
   "cell_type": "code",
   "execution_count": 15,
   "metadata": {},
   "outputs": [],
   "source": [
    "import numpy \n",
    "\n",
    "file_path = r'C:\\Users\\SESPL\\bhargav-workspace\\Day 31 - 32 data analysis\\archive\\Car Sales in India - (2019-2021).csv'\n",
    "\n",
    "with open(file_path, 'r') as a:\n",
    "    reader = csv.reader(a)\n",
    "    data = list(reader)\n",
    "    #print(data)\n",
    "    "
   ]
  }
 ],
 "metadata": {
  "colab": {
   "authorship_tag": "ABX9TyOkbxVXHUeSXxnuIL2x0Vid",
   "provenance": []
  },
  "kernelspec": {
   "display_name": "Python 3 (ipykernel)",
   "language": "python",
   "name": "python3"
  },
  "language_info": {
   "codemirror_mode": {
    "name": "ipython",
    "version": 3
   },
   "file_extension": ".py",
   "mimetype": "text/x-python",
   "name": "python",
   "nbconvert_exporter": "python",
   "pygments_lexer": "ipython3",
   "version": "3.12.7"
  }
 },
 "nbformat": 4,
 "nbformat_minor": 4
}
