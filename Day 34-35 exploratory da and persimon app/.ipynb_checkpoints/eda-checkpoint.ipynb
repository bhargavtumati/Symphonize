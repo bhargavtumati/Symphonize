{
 "cells": [
  {
   "cell_type": "markdown",
   "id": "bbb296d9-e56f-41b4-ac33-d7e711012537",
   "metadata": {},
   "source": [
    "**This code finds which gender is using the ecommerce websites the most**"
   ]
  },
  {
   "cell_type": "code",
   "execution_count": 93,
   "id": "1a87a014-bb48-4556-a73c-dc28ea8a68ff",
   "metadata": {},
   "outputs": [
    {
     "name": "stdout",
     "output_type": "stream",
     "text": [
      "             accessed_date  duration_(secs) network_protocol             ip  \\\n",
      "0  2017-03-14 17:43:57.172             2533              TCP   1.10.195.126   \n",
      "1  2017-03-14 17:43:57.172             4034              TCP    1.1.217.211   \n",
      "2  2017-03-14 17:43:26.135             1525              TCP  1.115.198.107   \n",
      "3  2017-03-14 17:43:26.135             4572              TCP  1.121.152.143   \n",
      "4  2017-03-14 18:17:09.005             3652              TCP  1.123.135.213   \n",
      "\n",
      "    bytes    accessed_Ffom age  gender country membership language      sales  \\\n",
      "0   20100           Chrome  28  Female      CA     Normal  English     261.96   \n",
      "1   20500  Mozilla Firefox  21    Male      AR     Normal  English     731.94   \n",
      "2   90100  Mozilla Firefox  20    Male      PL     Normal  English      14.62   \n",
      "3  100300  Mozilla Firefox  66  Female      IN     Normal  Spanish  9.575.775   \n",
      "4  270200  Mozilla Firefox  53  Female      KR     Normal  Spanish     22.368   \n",
      "\n",
      "  returned returned_amount   pay_method  \n",
      "0       No               0  Credit Card  \n",
      "1       No               0   Debit Card  \n",
      "2       No               0         Cash  \n",
      "3       No               0  Credit Card  \n",
      "4       No               0         Cash  \n",
      "-------------------------------------------------------------------------------------------------------------\n",
      "Count of Males using ecommerce: 63049\n",
      "Count of Females using ecommerce: 93903\n"
     ]
    }
   ],
   "source": [
    "import pandas as pd\n",
    "import seaborn as sb  # Only import if you'll use it later\n",
    "\n",
    "# Define the correct file path\n",
    "file_path = r\"C:\\Users\\SESPL\\bhargav-workspace\\Day 34 exploratory data analysis\\dataset\\E-commerce Website Logs new.csv\"\n",
    "\n",
    "# Read the CSV file into a DataFrame\n",
    "df = pd.read_csv(file_path, low_memory=False)\n",
    "\n",
    "print(df.head())\n",
    "print(\"-------------------------------------------------------------------------------------------------------------\");\n",
    "male_count = (df['gender'] == 'Male').sum()\n",
    "female_count = (df['gender'] == 'Female').sum()\n",
    "\n",
    "print(f\"Count of Males using ecommerce: {male_count}\")\n",
    "print(f\"Count of Females using ecommerce: {female_count}\")\n",
    "\n"
   ]
  },
  {
   "cell_type": "markdown",
   "id": "52630a94-1ce7-499b-8190-e63feaa79cc0",
   "metadata": {},
   "source": [
    "**This code finds which country uses ecommerce websites the most**"
   ]
  },
  {
   "cell_type": "code",
   "execution_count": 111,
   "id": "c06dfd5c-6ed4-44c1-9691-554f70910536",
   "metadata": {},
   "outputs": [
    {
     "name": "stdout",
     "output_type": "stream",
     "text": [
      "Count of users in 'IN' using e-commerce in tegulu: 3\n",
      "-------------------------------------------------------------------------------------------------------------\n",
      "Unique languages used by users in 'IN': {'marathi', 'urdu', 'macedonian', 'Slovak', 'swahili', 'Russian', 'Thai', 'Italian', 'malayalam', 'slovene', 'Portuguese', 'malay', 'Dutch', 'Arabic', 'polish', 'tegulu', 'italian', 'Chinese', 'French', 'norwegian', 'romanian', 'persian', 'swedish', 'nepali', 'English', 'Spanish', 'German', 'mongolian', 'Japanese'}\n",
      "-------------------------------------------------------------------------------------------------------------\n",
      "The number of users in IN for language English is 5444\n",
      "The number of users in IN for language Spanish is 578\n",
      "The number of users in IN for language Russian is 567\n",
      "The number of users in IN for language Chinese is 512\n",
      "The number of users in IN for language French is 288\n",
      "The number of users in IN for language Italian is 214\n",
      "The number of users in IN for language German is 115\n",
      "The number of users in IN for language Japanese is 52\n",
      "The number of users in IN for language Thai is 41\n",
      "The number of users in IN for language persian is 34\n",
      "The number of users in IN for language Dutch is 29\n",
      "The number of users in IN for language italian is 27\n",
      "The number of users in IN for language Arabic is 20\n",
      "The number of users in IN for language polish is 14\n",
      "The number of users in IN for language malayalam is 12\n",
      "The number of users in IN for language Portuguese is 12\n",
      "The number of users in IN for language mongolian is 8\n",
      "The number of users in IN for language swedish is 7\n",
      "The number of users in IN for language urdu is 6\n",
      "The number of users in IN for language swahili is 6\n",
      "The number of users in IN for language Slovak is 5\n",
      "The number of users in IN for language nepali is 5\n",
      "The number of users in IN for language romanian is 4\n",
      "The number of users in IN for language slovene is 3\n",
      "The number of users in IN for language tegulu is 3\n",
      "The number of users in IN for language marathi is 2\n",
      "The number of users in IN for language macedonian is 1\n",
      "The number of users in IN for language malay is 1\n",
      "The number of users in IN for language norwegian is 1\n",
      "-------------------------------------------------------------------------------------------------------------\n",
      "Unique countries in the dataset: {'CH', 'GB', 'PE', 'CA', 'SE', 'IE', 'CN', 'US', 'DE', 'IN', 'PL', 'KR', 'NO', 'AT', 'IT', 'FI', 'ZA', 'AR', 'DK', 'CO', 'AE', 'JP', 'MX', 'RU', 'PR', 'AU', 'FR'}\n",
      "-------------------------------------------------------------------------------------------------------------\n",
      "The number of users for country IT is 34438\n",
      "The number of users for country US is 30408\n",
      "The number of users for country CA is 17756\n",
      "The number of users for country CN is 10177\n",
      "The number of users for country JP is 9962\n",
      "The number of users for country RU is 9532\n",
      "The number of users for country CH is 8237\n",
      "The number of users for country IN is 8011\n",
      "The number of users for country PL is 6710\n",
      "The number of users for country GB is 4984\n",
      "The number of users for country AT is 4765\n",
      "The number of users for country AU is 4553\n",
      "The number of users for country SE is 4491\n",
      "The number of users for country NO is 3681\n",
      "The number of users for country AR is 3212\n",
      "The number of users for country KR is 2169\n",
      "The number of users for country DE is 2167\n",
      "The number of users for country PR is 1731\n",
      "The number of users for country CO is 1514\n",
      "The number of users for country PE is 1085\n",
      "The number of users for country MX is 1083\n",
      "The number of users for country ZA is 765\n",
      "The number of users for country FI is 651\n",
      "The number of users for country IE is 217\n",
      "The number of users for country DK is 217\n",
      "The number of users for country AE is 217\n",
      "The number of users for country FR is 105\n"
     ]
    }
   ],
   "source": [
    "import pandas as pd\n",
    "import seaborn as sb  # Only import if you'll use it later\n",
    "\n",
    "# Define the correct file path\n",
    "file_path = r\"C:\\Users\\SESPL\\bhargav-workspace\\Day 34 exploratory data analysis\\dataset\\E-commerce Website Logs new.csv\"\n",
    "\n",
    "# Read the CSV file into a DataFrame\n",
    "df = pd.read_csv(file_path, low_memory=False)\n",
    "\n",
    "\n",
    "# Count rows where 'country' is 'IN' and 'language' is 'English'\n",
    "IN_Teglanguage_count = ((df['country'] == 'IN') & (df['language'] == 'tegulu')).sum()\n",
    "\n",
    "print(f\"Count of users in 'IN' using e-commerce in tegulu: {IN_Teglanguage_count}\")\n",
    "\n",
    "print(\"-------------------------------------------------------------------------------------------------------------\");\n",
    "\n",
    "# Get the set of unique languages where 'country' is 'IN'\n",
    "IN_language_set = set(df.loc[df['country'] == 'IN', 'language'])\n",
    "\n",
    "print(f\"Unique languages used by users in 'IN': {IN_language_set}\")\n",
    "\n",
    "print(\"-------------------------------------------------------------------------------------------------------------\");\n",
    "\n",
    "language_user_counts={}\n",
    "\n",
    "\n",
    "\n",
    "for language in IN_language_set:\n",
    "    # Count the number of users for each country\n",
    "    IN_language_count = ((df['country'] == 'IN') & (df['language'] == language)).sum()\n",
    "    \n",
    "    language_user_counts[language] = IN_language_count\n",
    "    \n",
    "    # Print the result\n",
    "for language, count in sorted(language_user_counts.items(),key=lambda item: item[1], reverse=True):\n",
    "    print(f\"The number of users in IN for language {language} is {count}\")\n",
    "\n",
    "print(\"-------------------------------------------------------------------------------------------------------------\");\n",
    "\n",
    "# Get the set of unique countries\n",
    "unique_countries = set(df['country'])\n",
    "\n",
    "print(f\"Unique countries in the dataset: {unique_countries}\")\n",
    "\n",
    "print(\"-------------------------------------------------------------------------------------------------------------\");\n",
    "\n",
    "# Create a dictionary to store the country-user counts\n",
    "country_user_counts = {}\n",
    "\n",
    "# Count the number of users for each country\n",
    "for country in unique_countries:\n",
    "    Countryusers = (df['country'] == country).sum()\n",
    "    country_user_counts[country] = Countryusers\n",
    "\n",
    "# Sort the dictionary by the number of users in descending order and print\n",
    "for country, count in sorted(country_user_counts.items(), key=lambda item: item[1], reverse=True):\n",
    "    print(f\"The number of users for country {country} is {count}\")\n",
    "\n",
    "    \n",
    "    "
   ]
  },
  {
   "cell_type": "markdown",
   "id": "5bb8d225-0570-4757-a4c9-fd9d1ce13c02",
   "metadata": {},
   "source": [
    "**get most used payment method**"
   ]
  },
  {
   "cell_type": "code",
   "execution_count": 135,
   "id": "0fcd8112-e662-4e7f-ade1-9282fcccd27c",
   "metadata": {
    "scrolled": true
   },
   "outputs": [
    {
     "name": "stdout",
     "output_type": "stream",
     "text": [
      "different payment methods are {'Credit Card', 'Debit Card', 'Cash', 'Others'}\n",
      "The number of users using the payment method Cash is 72670\n",
      "The number of users using the payment method Credit Card is 53031\n",
      "The number of users using the payment method Debit Card is 27497\n",
      "The number of users using the payment method Others is 19640\n"
     ]
    },
    {
     "data": {
      "image/png": "[encoded data removed]",
      "text/plain": [
       "<Figure size 640x480 with 1 Axes>"
      ]
     },
     "metadata": {},
     "output_type": "display_data"
    }
   ],
   "source": [
    "import pandas as pd\n",
    "import seaborn as sb  # Only import if you'll use it later\n",
    "import matplotlib.pyplot as plt\n",
    "\n",
    "# Define the correct file path\n",
    "file_path = r\"C:\\Users\\SESPL\\bhargav-workspace\\Day 34 exploratory data analysis\\dataset\\E-commerce Website Logs new.csv\"\n",
    "\n",
    "# Read the CSV file into a DataFrame\n",
    "df = pd.read_csv(file_path, low_memory=False)\n",
    "\n",
    "payment_methods_set = set(df['pay_method'])\n",
    "payment_count_users={}\n",
    "print(f\"different payment methods are {payment_methods_set}\")\n",
    "\n",
    "for payment_method in payment_methods_set:\n",
    "    payment_method_usercount=(df['pay_method']==payment_method).sum()\n",
    "    payment_count_users[payment_method]=payment_method_usercount\n",
    "\n",
    "for payment_method,payment_method_usercount in sorted(payment_count_users.items(),key=lambda item:item[1],reverse=True):\n",
    "    print(f\"The number of users using the payment method {payment_method} is {payment_method_usercount}\")\n",
    "\n",
    "# Convert the dictionary keys and values to lists\n",
    "keys = list(payment_count_users.keys())\n",
    "values = list(payment_count_users.values())\n",
    "\n",
    "# Create the bar plot\n",
    "plt.bar(keys, values)\n",
    "\n",
    "# Adding title and labels\n",
    "plt.title('Bar Plot for payment count users dictionary')\n",
    "plt.xlabel('Pay_Method')\n",
    "plt.ylabel('Users')\n",
    "\n",
    "# Show the plot\n",
    "plt.show()\n",
    "\n",
    "\n"
   ]
  },
  {
   "cell_type": "markdown",
   "id": "cee51e63-69fe-4684-9d96-801daef67493",
   "metadata": {},
   "source": [
    "**creating a bar graph**"
   ]
  }
 ],
 "metadata": {
  "kernelspec": {
   "display_name": "Python 3 (ipykernel)",
   "language": "python",
   "name": "python3"
  },
  "language_info": {
   "codemirror_mode": {
    "name": "ipython",
    "version": 3
   },
   "file_extension": ".py",
   "mimetype": "text/x-python",
   "name": "python",
   "nbconvert_exporter": "python",
   "pygments_lexer": "ipython3",
   "version": "3.12.7"
  }
 },
 "nbformat": 4,
 "nbformat_minor": 5
}
