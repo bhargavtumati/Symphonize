{
 "cells": [
  {
   "cell_type": "markdown",
   "metadata": {
    "id": "M6GdFdxpMibt"
   },
   "source": [
    "# Pandas is a powerful and widely used open-source data analysis and manipulation library in Python. It's particularly known for its ability to handle and process large amounts of data with ease. Here are some of the basic concepts and functionalities of Pandas"
   ]
  },
  {
   "cell_type": "markdown",
   "metadata": {
    "id": "jtromSYiIZaU"
   },
   "source": [
    "**Series: A one-dimensional labeled array capable of holding any data type (integers, strings, floats, etc.).**"
   ]
  },
  {
   "cell_type": "code",
   "execution_count": 28,
   "metadata": {
    "id": "n6y-U3E2IHpN"
   },
   "outputs": [
    {
     "name": "stdout",
     "output_type": "stream",
     "text": [
      "0    1\n",
      "1    2\n",
      "2    3\n",
      "3    4\n",
      "4    5\n",
      "dtype: int64\n"
     ]
    }
   ],
   "source": [
    "import pandas as pd\n",
    "s = pd.Series([1, 2, 3, 4, 5])\n",
    "print(s)"
   ]
  },
  {
   "cell_type": "markdown",
   "metadata": {
    "id": "k6Fh8U0fIiqL"
   },
   "source": [
    "**DataFrame: A two-dimensional table with labeled axes (rows and columns). It's similar to a spreadsheet or SQL table.**"
   ]
  },
  {
   "cell_type": "code",
   "execution_count": 5,
   "metadata": {
    "id": "RxJ8psnXIn50"
   },
   "outputs": [
    {
     "name": "stdout",
     "output_type": "stream",
     "text": [
      "   A  B\n",
      "0  1  4\n",
      "1  2  5\n",
      "2  3  6\n"
     ]
    }
   ],
   "source": [
    "import pandas as pd\n",
    "df = pd.DataFrame({\n",
    "    'A': [1, 2, 3],\n",
    "    'B': [4, 5, 6]\n",
    "})\n",
    "print(df)"
   ]
  },
  {
   "cell_type": "markdown",
   "metadata": {
    "id": "DHTZkB4_JBDs"
   },
   "source": [
    "**You can create a DataFrame from:\n",
    "Lists of dictionaries or lists of lists\n",
    "CSV files\n",
    "Excel files\n",
    "SQL queries**"
   ]
  },
  {
   "cell_type": "code",
   "execution_count": 49,
   "metadata": {
    "id": "heaLlHTSJGdT"
   },
   "outputs": [
    {
     "name": "stdout",
     "output_type": "stream",
     "text": [
      "      name  age\n",
      "0    Alice   25\n",
      "1      Bob   30\n",
      "2  Charlie   35\n"
     ]
    }
   ],
   "source": [
    "import pandas as pd\n",
    "data = {\n",
    "    'name': ['Alice', 'Bob', 'Charlie'],\n",
    "    'age': [25, 30, 35]\n",
    "}\n",
    "df = pd.DataFrame(data)\n",
    "print(df)"
   ]
  },
  {
   "cell_type": "markdown",
   "metadata": {
    "id": "Scoj61UlJOhD"
   },
   "source": [
    "**filter data**"
   ]
  },
  {
   "cell_type": "code",
   "execution_count": 16,
   "metadata": {
    "colab": {
     "base_uri": "https://localhost:8080/",
     "height": 81
    },
    "executionInfo": {
     "elapsed": 448,
     "status": "ok",
     "timestamp": 1732015105616,
     "user": {
      "displayName": "Bhargav Tumati",
      "userId": "02031433261979710530"
     },
     "user_tz": -330
    },
    "id": "fx4nctCvJRXb",
    "outputId": "c022bf91-a8b3-4183-a58e-b5d4a221290c"
   },
   "outputs": [
    {
     "data": {
      "text/html": [
       "<div>\n",
       "<style scoped>\n",
       "    .dataframe tbody tr th:only-of-type {\n",
       "        vertical-align: middle;\n",
       "    }\n",
       "\n",
       "    .dataframe tbody tr th {\n",
       "        vertical-align: top;\n",
       "    }\n",
       "\n",
       "    .dataframe thead th {\n",
       "        text-align: right;\n",
       "    }\n",
       "</style>\n",
       "<table border=\"1\" class=\"dataframe\">\n",
       "  <thead>\n",
       "    <tr style=\"text-align: right;\">\n",
       "      <th></th>\n",
       "      <th>name</th>\n",
       "      <th>age</th>\n",
       "    </tr>\n",
       "  </thead>\n",
       "  <tbody>\n",
       "    <tr>\n",
       "      <th>2</th>\n",
       "      <td>Charlie</td>\n",
       "      <td>35</td>\n",
       "    </tr>\n",
       "  </tbody>\n",
       "</table>\n",
       "</div>"
      ],
      "text/plain": [
       "      name  age\n",
       "2  Charlie   35"
      ]
     },
     "execution_count": 16,
     "metadata": {},
     "output_type": "execute_result"
    }
   ],
   "source": [
    "import pandas as pd\n",
    "data = {\n",
    "    'name': ['Alice', 'Bob', 'Charlie'],\n",
    "    'age': [25, 30, 35]\n",
    "}\n",
    "df = pd.DataFrame(data)\n",
    "df[df['age'] > 30]"
   ]
  },
  {
   "cell_type": "code",
   "execution_count": 24,
   "metadata": {},
   "outputs": [
    {
     "name": "stdout",
     "output_type": "stream",
     "text": [
      "Index(['name', 'age'], dtype='object')\n"
     ]
    }
   ],
   "source": [
    "import pandas as pd\n",
    "data = {\n",
    "    'name': ['Alice', 'Bob', 'Charlie'],\n",
    "    'age': [25, 30, 35]\n",
    "}\n",
    "df = pd.DataFrame(data)\n",
    "print(df.columns)\n"
   ]
  },
  {
   "cell_type": "markdown",
   "metadata": {},
   "source": [
    "**group by age mean**"
   ]
  },
  {
   "cell_type": "code",
   "execution_count": 52,
   "metadata": {},
   "outputs": [
    {
     "name": "stdout",
     "output_type": "stream",
     "text": [
      "     score\n",
      "age       \n",
      "25    84.5\n",
      "30    98.0\n",
      "35    76.0\n"
     ]
    }
   ],
   "source": [
    "import pandas as pd\n",
    "\n",
    "data = {\n",
    "    'name': ['Alice', 'Bob', 'Charlie','Sathvik'],\n",
    "    'age': [25, 30, 35, 25],\n",
    "    'score': [80, 98, 76, 89]\n",
    "}\n",
    "df = pd.DataFrame(data)\n",
    "\n",
    "# Group by 'age' and calculate the mean of numeric columns\n",
    "result = df.groupby('age').mean(numeric_only=True)\n",
    "print(result)"
   ]
  },
  {
   "cell_type": "markdown",
   "metadata": {},
   "source": [
    "**getting sales by company**"
   ]
  },
  {
   "cell_type": "code",
   "execution_count": 32,
   "metadata": {},
   "outputs": [
    {
     "name": "stdout",
     "output_type": "stream",
     "text": [
      "          Company  Year  Total Sales\n",
      "0   Maruti Suzuki  2021      1364787\n",
      "1         Hyundai  2021       505033\n",
      "2            Tata  2021       330552\n",
      "3        Mahindra  2021       203124\n",
      "4             Kia  2021       180261\n",
      "5           Honda  2021        89153\n",
      "6          Toyota  2021       130799\n",
      "7         Renault  2021        95878\n",
      "8            Ford  2021        33480\n",
      "9          Nissan  2021        39090\n",
      "10             MG  2021        39858\n",
      "11     Volkswagen  2021        26064\n",
      "12          Skoda  2021        23857\n",
      "13           Jeep  2021        11652\n",
      "14  Maruti Suzuki  2020      1213388\n",
      "15        Hyundai  2020       423642\n",
      "16           Tata  2020       169880\n",
      "17       Mahindra  2020       138873\n",
      "18            Kia  2020       140505\n",
      "19          Honda  2020        70533\n",
      "20         Toyota  2020        76111\n",
      "21        Renault  2020        80518\n",
      "22           Ford  2020        45799\n",
      "23         Nissan  2020         2377\n",
      "24             MG  2020        28162\n",
      "25     Volkswagen  2020        15598\n",
      "26          Skoda  2020        11372\n",
      "27           Jeep  2020         5226\n",
      "28  Maruti Suzuki  2019      1464450\n",
      "29        Hyundai  2019       510260\n",
      "30           Tata  2019       152002\n",
      "31       Mahindra  2019       219682\n",
      "32            Kia  2019        45494\n",
      "33          Honda  2019       134738\n",
      "34         Toyota  2019       126701\n",
      "35        Renault  2019        88869\n",
      "36           Ford  2019        73636\n",
      "37         Nissan  2019         6910\n",
      "38             MG  2019        15930\n",
      "39     Volkswagen  2019        32324\n",
      "40          Skoda  2019        15284\n",
      "41           Jeep  2019        10935\n"
     ]
    }
   ],
   "source": [
    "import pandas as pd\n",
    "\n",
    "file_path = r'C:\\Users\\SESPL\\bhargav-workspace\\Day 31 - 33 data analysis\\archive\\Car Sales in India - (2019-2021).csv'\n",
    "\n",
    "# Reading the CSV file using pandas\n",
    "data = pd.read_csv(file_path)\n",
    "\n",
    "# Display the total year sales of year company\n",
    "df = pd.DataFrame(data)\n",
    "\n",
    "df['Total Sales'] = df.drop(['Company', 'Year'], axis=1).sum(axis=1)\n",
    "\n",
    "print(df[['Company', 'Year', 'Total Sales']])"
   ]
  },
  {
   "cell_type": "markdown",
   "metadata": {},
   "source": [
    "**getting sales by year**"
   ]
  },
  {
   "cell_type": "code",
   "execution_count": 34,
   "metadata": {},
   "outputs": [
    {
     "name": "stdout",
     "output_type": "stream",
     "text": [
      "          Company  Year  Total Sales\n",
      "37         Nissan  2019         6910\n",
      "41           Jeep  2019        10935\n",
      "40          Skoda  2019        15284\n",
      "38             MG  2019        15930\n",
      "39     Volkswagen  2019        32324\n",
      "32            Kia  2019        45494\n",
      "36           Ford  2019        73636\n",
      "35        Renault  2019        88869\n",
      "34         Toyota  2019       126701\n",
      "33          Honda  2019       134738\n",
      "30           Tata  2019       152002\n",
      "31       Mahindra  2019       219682\n",
      "29        Hyundai  2019       510260\n",
      "28  Maruti Suzuki  2019      1464450\n"
     ]
    }
   ],
   "source": [
    "import pandas as pd\n",
    "\n",
    "file_path = r'C:\\Users\\SESPL\\bhargav-workspace\\Day 31 - 33 data analysis\\archive\\Car Sales in India - (2019-2021).csv'\n",
    "\n",
    "# Reading the CSV file using pandas\n",
    "data = pd.read_csv(file_path)\n",
    "\n",
    "df = pd.DataFrame(data)\n",
    "\n",
    "# Filter data for the year 2021\n",
    "df_2020 = df[df['Year'] == 2019].copy()  # Ensure a copy is made\n",
    "\n",
    "# Calculate total sales for each company using .loc[]\n",
    "df_2020.loc[:, 'Total Sales'] = df_2020.drop(['Company', 'Year'], axis=1).sum(axis=1)\n",
    "\n",
    "# Sort the DataFrame by 'Total Sales' in descending order\n",
    "df_2020_sorted = df_2020.sort_values(by='Total Sales', ascending=True)\n",
    "\n",
    "# Display the result\n",
    "print(df_2020_sorted[['Company', 'Year', 'Total Sales']])"
   ]
  },
  {
   "cell_type": "markdown",
   "metadata": {},
   "source": [
    "**getting name column and filter data by mom growth**"
   ]
  },
  {
   "cell_type": "code",
   "execution_count": 190,
   "metadata": {},
   "outputs": [
    {
     "name": "stdout",
     "output_type": "stream",
     "text": [
      "Index(['RANK', 'name', 'YoY_Analysis_Aug'24', 'YoY_Analysis_Aug'23',\n",
      "       'YoY_Growth_(%)', 'MoM_Analysis_Aug'24', 'MoM_Analysis_July'24',\n",
      "       'MoM_Growth_(%)', 'Market_Share_Aug'24_(%)', 'Market_Share_Aug'23_(%)',\n",
      "       'Market_Share_Dif_(%)'],\n",
      "      dtype='object')\n",
      "0     Maruti Suzuki\n",
      "1           Hyundai\n",
      "2              Tata\n",
      "3          Mahindra\n",
      "4            Toyota\n",
      "5               Kia\n",
      "6             Honda\n",
      "7                MG\n",
      "8                VW\n",
      "9           Renault\n",
      "10            Skoda\n",
      "11           Nissan\n",
      "12          Citroen\n",
      "13             Jeep\n",
      "Name: name, dtype: object\n",
      "------------------------------------------------------------\n",
      "             name  MoM_Growth_(%)\n",
      "10          Skoda            31.8\n",
      "0   Maruti Suzuki             4.1\n"
     ]
    }
   ],
   "source": [
    "import pandas as pd\n",
    "\n",
    "file_path = r'C:\\Users\\SESPL\\bhargav-workspace\\Day 31 - 33 data analysis\\archive\\car_sales_data_august_2024.csv'\n",
    "\n",
    "# Load the data from the CSV file\n",
    "data = pd.read_csv(file_path)\n",
    "\n",
    "# Convert the data to a DataFrame\n",
    "df = pd.DataFrame(data)\n",
    "\n",
    "# Print the column names and the 'name' column\n",
    "print(df.columns)\n",
    "print(df['name'])\n",
    "\n",
    "print(\"------------------------------------------------------------\")\n",
    "\n",
    "# Filter the DataFrame for MoM_Growth_(%) > 0 and name being one of the specified brands\n",
    "filtered_df = df[(df[\"MoM_Growth_(%)\"] > 0) & (df[\"name\"].isin([\"Skoda\", \"Tata\", \"Maruti Suzuki\"]))]\n",
    "\n",
    "# Sort the filtered DataFrame by MoM_Growth_(%) in descending order\n",
    "filtered_df2 = df[(df[\"MoM_Growth_(%)\"] > 0) & (df[\"name\"] == \"Maruti Suzuki\")]\n",
    "df_sorted = filtered_df.sort_values(by='MoM_Growth_(%)', ascending=False)\n",
    "\n",
    "# Print the 'name' and 'MoM_Growth_(%)' columns from the sorted DataFrame\n",
    "print(df_sorted[['name', \"MoM_Growth_(%)\"]])\n"
   ]
  },
  {
   "cell_type": "markdown",
   "metadata": {},
   "source": [
    "**getting best camera as per requirement for the given filters**"
   ]
  },
  {
   "cell_type": "code",
   "execution_count": 36,
   "metadata": {},
   "outputs": [
    {
     "name": "stdout",
     "output_type": "stream",
     "text": [
      "                 Model  Price\n",
      "1022  Toshiba PDR-4300    599\n"
     ]
    }
   ],
   "source": [
    "import pandas as pd\n",
    "\n",
    "file_path = r'C:\\Users\\SESPL\\bhargav-workspace\\Day 31 - 33 data analysis\\archive\\camera_dataset.csv'\n",
    "\n",
    "data = pd.read_csv(file_path)\n",
    "\n",
    "df = pd.DataFrame(data)\n",
    "\n",
    "filtered_data = df[(df['Max resolution'] > 1023) & (df['Price'] < 750) & (df['Price'] >550) & (df['Storage included'] >9) ]\n",
    "\n",
    "print(filtered_data[['Model','Price']])\n"
   ]
  },
  {
   "cell_type": "markdown",
   "metadata": {},
   "source": [
    "**dropping index**"
   ]
  },
  {
   "cell_type": "code",
   "execution_count": 46,
   "metadata": {},
   "outputs": [
    {
     "name": "stdout",
     "output_type": "stream",
     "text": [
      "           Model  Price\n",
      "Toshiba PDR-4300    599\n"
     ]
    }
   ],
   "source": [
    "import pandas as pd\n",
    "\n",
    "file_path = r'C:\\Users\\SESPL\\bhargav-workspace\\Day 31 - 33 data analysis\\archive\\camera_dataset.csv'\n",
    "\n",
    "data = pd.read_csv(file_path)\n",
    "\n",
    "df = pd.DataFrame(data)\n",
    "\n",
    "# Filter the data based on conditions\n",
    "filtered_data = df[(df['Max resolution'] > 1023) & \n",
    "                   (df['Price'] < 750) & \n",
    "                   (df['Price'] > 550) & \n",
    "                   (df['Storage included'] > 9)]\n",
    "\n",
    "# Print the filtered data without index\n",
    "print(filtered_data[['Model', 'Price']].to_string(index=False))\n"
   ]
  }
 ],
 "metadata": {
  "colab": {
   "authorship_tag": "ABX9TyNRLzF+brEKefLwgegSCBqD",
   "provenance": []
  },
  "kernelspec": {
   "display_name": "Python 3 (ipykernel)",
   "language": "python",
   "name": "python3"
  },
  "language_info": {
   "codemirror_mode": {
    "name": "ipython",
    "version": 3
   },
   "file_extension": ".py",
   "mimetype": "text/x-python",
   "name": "python",
   "nbconvert_exporter": "python",
   "pygments_lexer": "ipython3",
   "version": "3.12.7"
  }
 },
 "nbformat": 4,
 "nbformat_minor": 4
}
